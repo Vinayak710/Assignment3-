{
 "cells": [
  {
   "cell_type": "code",
   "execution_count": 5,
   "id": "ffdf26c4-95e0-4788-853b-d6d21ebc65e3",
   "metadata": {},
   "outputs": [
    {
     "name": "stdout",
     "output_type": "stream",
     "text": [
      "my name is vinayak,and id is 518050\n"
     ]
    }
   ],
   "source": [
    "# Question 1 \n",
    "# class is like the blue print of somthing and when we add somthing to that blue print we get an object\n",
    "class myApplication:\n",
    "    def application(self,name,ide):\n",
    "        self.name=name\n",
    "        self.ide= ide\n",
    "        print(f\"my name is {self.name},and id is {self.ide}\")\n",
    "\n",
    "application1=myApplication()\n",
    "application1.application(\"vinayak\",518050)"
   ]
  },
  {
   "cell_type": "code",
   "execution_count": 6,
   "id": "b2f07592-26f9-419d-8c94-25f5ec9a0945",
   "metadata": {},
   "outputs": [],
   "source": [
    "# Question 2 answer\n",
    "# Inheritance, Polymorphism, Encapsulation and Abstraction\n",
    "\n"
   ]
  },
  {
   "cell_type": "code",
   "execution_count": 8,
   "id": "acc40a6a-5120-4937-bc14-e01a962e78ea",
   "metadata": {},
   "outputs": [
    {
     "name": "stdout",
     "output_type": "stream",
     "text": [
      "my name is vinayak,and id is 518050\n"
     ]
    }
   ],
   "source": [
    "# Question 3 solution \n",
    "# The __init__ function is called every time an object is created from a class\n",
    "class myApplication:\n",
    "    def __init__(self,name,ide):\n",
    "        self.name=name\n",
    "        self.ide= ide\n",
    "    \n",
    "    def application(self):\n",
    "        \n",
    "        print(f\"my name is {self.name},and id is {self.ide}\")\n",
    "\n",
    "application1=myApplication(\"vinayak\",518050)\n",
    "application1.application()\n",
    "\n",
    "\n"
   ]
  },
  {
   "cell_type": "code",
   "execution_count": 15,
   "id": "6cb67c45-80b6-471a-b618-260675a8820e",
   "metadata": {},
   "outputs": [],
   "source": [
    "# Question 4 \n",
    "'''suppose we create a class with name employee and we create an object of it with name vinayak '''\n",
    "class employee:\n",
    "    def application(self):\n",
    "        pass\n",
    "vinayak=employee()\n",
    "vinayak.application()  # this  basaciall means  (employee.application(vinayak))\n",
    "\n",
    "# this means vinayak here is pass to a function and to recive it we assign a self veriable in the function "
   ]
  },
  {
   "cell_type": "code",
   "execution_count": 17,
   "id": "280101f4-305f-47de-9e61-a3151e5bed5b",
   "metadata": {},
   "outputs": [],
   "source": [
    "#  Question 5 \n",
    "# Inheritance allows us to define a class that inherits all the methods and properties from another class\n",
    "# differant type of inheratance are\n",
    "# 1.simple inheratance\n",
    "# 2.multiple inhetrance\n",
    "# 3.multilaval inheratance\n",
    "\n",
    "# example of silple inheratance\n",
    "class application:\n",
    "    pass\n",
    "class application1(application):\n",
    "    pass\n",
    "\n",
    "# example of multiple inhetrance \n",
    "class application1:\n",
    "    pass\n",
    "class application2:\n",
    "    pass\n",
    "class application(application1,application2):\n",
    "    pass\n",
    "\n",
    "# exaple of multy laval inhetrance\n",
    "class application:\n",
    "    pass\n",
    "class application1(application):\n",
    "    pass\n",
    "class application(application1):\n",
    "    pass"
   ]
  }
 ],
 "metadata": {
  "kernelspec": {
   "display_name": "Python 3 (ipykernel)",
   "language": "python",
   "name": "python3"
  },
  "language_info": {
   "codemirror_mode": {
    "name": "ipython",
    "version": 3
   },
   "file_extension": ".py",
   "mimetype": "text/x-python",
   "name": "python",
   "nbconvert_exporter": "python",
   "pygments_lexer": "ipython3",
   "version": "3.10.8"
  }
 },
 "nbformat": 4,
 "nbformat_minor": 5
}
